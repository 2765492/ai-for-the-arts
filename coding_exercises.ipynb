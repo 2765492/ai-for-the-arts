{
 "cells": [
  {
   "cell_type": "markdown",
   "metadata": {},
   "source": [
    "Markdown is a language used for formatting text in GitHub README files. It\n",
    "is also used in editing markdown cells in Jupyter Notebooks. This cell is about learning basic programming concepts."
   ]
  },
  {
   "cell_type": "markdown",
   "metadata": {},
   "source": [
    "This is the first attempt at coding."
   ]
  },
  {
   "cell_type": "code",
   "execution_count": 21,
   "metadata": {},
   "outputs": [
    {
     "name": "stdout",
     "output_type": "stream",
     "text": [
      "Hello, World!\n"
     ]
    }
   ],
   "source": [
    "print(\"Hello, World!\")"
   ]
  },
  {
   "cell_type": "markdown",
   "metadata": {},
   "source": [
    "# Printing\n",
    "This was the prompt I submitted to Microsoft Copilot: _Could you suggest a python\n",
    "code for ‘Hello, world!’ to demonstrate the concept of printing to a\n",
    "complete beginner in programming? Please explain the code step-by-step\n",
    "highlighting any key aspects._\n",
    "\n",
    "The Microsoft Copilot higlighted the following key aspects: syntax, indentation, and comments. \n",
    "\n",
    "Following is the example of the code the asisstant provided:"
   ]
  },
  {
   "cell_type": "code",
   "execution_count": 22,
   "metadata": {},
   "outputs": [
    {
     "name": "stdout",
     "output_type": "stream",
     "text": [
      "Hello, world!\n"
     ]
    }
   ],
   "source": [
    "# This is a comment\n",
    "print(\"Hello, world!\")  # This prints Hello, world! to the screen"
   ]
  },
  {
   "cell_type": "markdown",
   "metadata": {},
   "source": [
    "# Running Prompts in Microsoft Copilot\n",
    "## Variables\n",
    "This is the initial prompt _Could you suggest a modification of the Python code for “Hello,\n",
    "world!” to demonstrate the concept of variables to a complete beginner in\n",
    "programming? Please explain the code step-by-step highlighting any key\n",
    "aspects._\n",
    "\n",
    "These are some of the prompt suggestions from Copilot: Can you explain data types in python? How do I create multiple variables? What are lists and how to use them?"
   ]
  },
  {
   "cell_type": "code",
   "execution_count": 23,
   "metadata": {},
   "outputs": [
    {
     "name": "stdout",
     "output_type": "stream",
     "text": [
      "Hello, world!\n"
     ]
    }
   ],
   "source": [
    "# Define a variable and assign a string value to it\n",
    "message = \"Hello, world!\"\n",
    "\n",
    "# Print the value of the variable\n",
    "print(message)"
   ]
  },
  {
   "cell_type": "markdown",
   "metadata": {},
   "source": [
    "## Functions\n",
    "This is the initial prompt _Could you suggest a modification of the Python code for “Hello,\n",
    "world!” to demonstrate the concept of functions to a complete beginner in\n",
    "programming? Please explain the code step-by-step highlighting any key\n",
    "aspects._\n",
    "\n",
    "These are some of the prompt suggestions from Copilot: Can you explain function parameters and return values? What are some other simple function examples in Python? What are some of the best practices for writing Python functions? "
   ]
  },
  {
   "cell_type": "code",
   "execution_count": 24,
   "metadata": {},
   "outputs": [
    {
     "name": "stdout",
     "output_type": "stream",
     "text": [
      "Hello, World!\n"
     ]
    }
   ],
   "source": [
    "# Step 1: Define the function\n",
    "# The 'def' keyword is used to define a function. The name of the function is 'say_hello'.\n",
    "# The parentheses are used for function parameters (more on that later), but they're empty here.\n",
    "# The colon indicates that the following lines are part of the function definition.\n",
    "def say_hello():\n",
    "    # Step 2: The body of the function\n",
    "    # This line is indented to indicate that it is part of the function.\n",
    "    # It prints \"Hello, World!\" to the console.\n",
    "    print(\"Hello, World!\")\n",
    "\n",
    "# Step 3: Call the function\n",
    "# This line is not indented, so it's outside the function definition.\n",
    "# When we call the function, Python executes the code inside the function.\n",
    "say_hello()"
   ]
  },
  {
   "cell_type": "markdown",
   "metadata": {},
   "source": [
    "## Initial prompt to understand loops\n",
    "This was the initial prompt _Could you suggest a modification of the\n",
    "Python code for “Hello, world!” to demonstrate the concept of loops to a\n",
    "complete beginner in programming? Please explain the code step-by-step\n",
    "highlighting any key aspects._"
   ]
  },
  {
   "cell_type": "code",
   "execution_count": 25,
   "metadata": {},
   "outputs": [
    {
     "name": "stdout",
     "output_type": "stream",
     "text": [
      "Hello, world!\n",
      "Hello, world!\n",
      "Hello, world!\n",
      "Hello, world!\n",
      "Hello, world!\n"
     ]
    }
   ],
   "source": [
    "# This is a simple Python program to demonstrate loops\n",
    "\n",
    "# Define the number of times we want to print \"Hello, world!\"\n",
    "num_times = 5\n",
    "\n",
    "# Use a for loop to repeat the print statement\n",
    "for i in range(num_times):\n",
    "    print(\"Hello, world!\")"
   ]
  },
  {
   "cell_type": "markdown",
   "metadata": {},
   "source": [
    "Step-by-Step Explanation\n",
    "\n",
    "    Commenting the Code:\n",
    "        The first line is a comment (# This is a simple Python program to demonstrate loops). Comments are ignored by the Python interpreter and are used to explain the code to anyone reading it.\n",
    "\n",
    "    Defining a Variable:\n",
    "        num_times = 5: Here, we define a variable num_times and set it to 5. This variable will determine how many times we want to print \"Hello, world!\".\n",
    "\n",
    "    Using a for Loop:\n",
    "        for i in range(num_times):: This line starts a for loop. The range(num_times) function generates a sequence of numbers from 0 to 4 (since num_times is 5). The loop will run once for each number in this sequence.\n",
    "        i is a variable that takes on each value in the sequence, one at a time, during each iteration of the loop.\n",
    "\n",
    "    Printing Inside the Loop:\n",
    "        print(\"Hello, world!\"): This line is indented, meaning it is inside the loop. It will be executed once for each iteration of the loop. So, \"Hello, world!\" will be printed 5 times.\n",
    "\n",
    "Key Aspects\n",
    "\n",
    "    Loops: Loops are used to repeat a block of code multiple times. In this example, the for loop repeats the print statement 5 times.\n",
    "    Indentation: Python uses indentation to define the scope of loops and other control structures. The indented print statement is part of the loop.\n",
    "    Range Function: The range function generates a sequence of numbers, which is useful for controlling the number of loop iterations.\n",
    "\n",
    "Some of the suggested prompts include: Can you explain while loops? Show me a nested loop example? How to modify the code for user output?"
   ]
  },
  {
   "cell_type": "markdown",
   "metadata": {},
   "source": [
    "## Initial prompt to understand data structures such as lists\n",
    "This was the initial prompt _Could you suggest\n",
    "a modification of the Python code for “Hello, world!” to demonstrate the concept\n",
    "of lists to a complete beginner in programming? Please explain the code step-\n",
    "by-step highlighting any key aspects_"
   ]
  },
  {
   "cell_type": "code",
   "execution_count": 26,
   "metadata": {},
   "outputs": [
    {
     "name": "stdout",
     "output_type": "stream",
     "text": [
      "Hello, world!\n",
      "Hi there!\n",
      "Greetings!\n",
      "Salutations!\n",
      "Howdy!\n"
     ]
    }
   ],
   "source": [
    "# This is a simple Python program to demonstrate lists\n",
    "\n",
    "# Define a list of greetings\n",
    "greetings = [\"Hello, world!\", \"Hi there!\", \"Greetings!\", \"Salutations!\", \"Howdy!\"]\n",
    "\n",
    "# Use a for loop to print each greeting in the list\n",
    "for greeting in greetings:\n",
    "    print(greeting)"
   ]
  },
  {
   "cell_type": "markdown",
   "metadata": {},
   "source": [
    "Step-by-Step Explanation\n",
    "\n",
    "    Commenting the Code:\n",
    "        The first line is a comment (# This is a simple Python program to demonstrate lists). Comments are used to explain the code and are ignored by the Python interpreter.\n",
    "\n",
    "    Defining a List:\n",
    "        greetings = [\"Hello, world!\", \"Hi there!\", \"Greetings!\", \"Salutations!\", \"Howdy!\"]: Here, we define a list called greetings that contains multiple strings. Each string is a different greeting.\n",
    "\n",
    "    Using a for Loop:\n",
    "        for greeting in greetings:: This line starts a for loop. The loop iterates over each element in the greetings list. During each iteration, the variable greeting takes on the value of the current element in the list.\n",
    "\n",
    "    Printing Inside the Loop:\n",
    "        print(greeting): This line is indented, meaning it is inside the loop. It will be executed once for each element in the greetings list. So, each greeting in the list will be printed.\n",
    "\n",
    "Key Aspects\n",
    "\n",
    "    Lists: Lists are used to store multiple items in a single variable. In this example, the greetings list stores multiple greeting messages.\n",
    "    Loops: Loops can be used to iterate over the elements of a list. The for loop in this example iterates over each greeting in the greetings list.\n",
    "    Indentation: Python uses indentation to define the scope of loops and other control structures. The indented print statement is part of the loop.\n",
    "    List Elements: Each element in the list can be accessed and used within the loop. In this example, each greeting is printed during each iteration of the loop.\n",
    "\n",
    "Some of the suggested prompts: Can you show me how to modify it for tuples? Explain list methods like append or remove. How can I sort greetings in alphabetical order?"
   ]
  },
  {
   "cell_type": "markdown",
   "metadata": {},
   "source": [
    "## Initial prompt to understand data structures such as dictionaries\n",
    "Suggested prompt: _Could you suggest a modification of the Python code for “Hello, world!” to demonstrate the concept of dictionaries to a complete beginner in programming? Please explain the code step-by-step highlighting any key aspects._"
   ]
  },
  {
   "cell_type": "code",
   "execution_count": 27,
   "metadata": {},
   "outputs": [
    {
     "name": "stdout",
     "output_type": "stream",
     "text": [
      "In English, we say: Hello, world!\n",
      "In Spanish, we say: ¡Hola, mundo!\n",
      "In French, we say: Bonjour, le monde!\n",
      "In German, we say: Hallo, Welt!\n",
      "In Japanese, we say: こんにちは、世界！\n"
     ]
    }
   ],
   "source": [
    "# This is a simple Python program to demonstrate dictionaries\n",
    "\n",
    "# Define a dictionary of greetings in different languages\n",
    "greetings = {\n",
    "    \"English\": \"Hello, world!\",\n",
    "    \"Spanish\": \"¡Hola, mundo!\",\n",
    "    \"French\": \"Bonjour, le monde!\",\n",
    "    \"German\": \"Hallo, Welt!\",\n",
    "    \"Japanese\": \"こんにちは、世界！\"\n",
    "}\n",
    "\n",
    "# Use a for loop to print each greeting in the dictionary\n",
    "for language, greeting in greetings.items():\n",
    "    print(f\"In {language}, we say: {greeting}\")"
   ]
  },
  {
   "cell_type": "markdown",
   "metadata": {},
   "source": [
    "Step-by-Step Explanation\n",
    "\n",
    "    Commenting the Code:\n",
    "        The first line is a comment (# This is a simple Python program to demonstrate dictionaries). Comments are used to explain the code and are ignored by the Python interpreter.\n",
    "\n",
    "    Defining a Dictionary:\n",
    "        greetings = { \"English\": \"Hello, world!\", \"Spanish\": \"¡Hola, mundo!\", \"French\": \"Bonjour, le monde!\", \"German\": \"Hallo, Welt!\", \"Japanese\": \"こんにちは、世界！\" }: Here, we define a dictionary called greetings. A dictionary is a collection of key-value pairs. In this example, the keys are language names, and the values are the corresponding greetings in those languages.\n",
    "\n",
    "    Using a for Loop:\n",
    "        for language, greeting in greetings.items():: This line starts a for loop. The items() method returns a view object that displays a list of a dictionary's key-value tuple pairs. The loop iterates over each key-value pair in the greetings dictionary. During each iteration, the variable language takes on the value of the current key, and greeting takes on the value of the current value.\n",
    "\n",
    "    Printing Inside the Loop:\n",
    "        print(f\"In {language}, we say: {greeting}\"): This line is indented, meaning it is inside the loop. It will be executed once for each key-value pair in the greetings dictionary. The f before the string indicates an f-string, which allows us to embed expressions inside string literals using curly braces {}. So, each greeting in the dictionary will be printed along with its corresponding language.\n",
    "\n",
    "Key Aspects\n",
    "\n",
    "    Dictionaries: Dictionaries are used to store data values in key-value pairs. In this example, the greetings dictionary stores greetings in different languages.\n",
    "    Loops: Loops can be used to iterate over the elements of a dictionary. The for loop in this example iterates over each key-value pair in the greetings dictionary.\n",
    "    Indentation: Python uses indentation to define the scope of loops and other control structures. The indented print statement is part of the loop.\n",
    "    Dictionary Methods: The items() method is used to get a view object that displays a list of a dictionary's key-value tuple pairs.\n",
    "    f-Strings: f-Strings are used to format strings by embedding expressions inside string literals using curly braces {}.\n"
   ]
  },
  {
   "cell_type": "markdown",
   "metadata": {},
   "source": [
    "Some Suggested prompts: Can you show me how to modify for sets? Explain dictionary methods like get or pop. How can I add more languages to the dictionary?"
   ]
  },
  {
   "cell_type": "markdown",
   "metadata": {},
   "source": [
    "##Initial prompt to understand data structures such as arrays\n",
    "Suggested prompt _Could you suggest a modification of the Python code for “Hello, world!” to demonstrate the concept of arrays to a complete beginner in programming? Please explain the code step-by-step highlighting any key aspects?_"
   ]
  },
  {
   "cell_type": "code",
   "execution_count": 28,
   "metadata": {},
   "outputs": [
    {
     "name": "stdout",
     "output_type": "stream",
     "text": [
      "Hello\n",
      "World\n",
      "!\n"
     ]
    }
   ],
   "source": [
    "# Step 1: Create an array (list) of words\n",
    "words = [\"Hello\", \"World\", \"!\"]\n",
    "\n",
    "# Step 2: Use a loop to go through each item in the array\n",
    "for word in words:\n",
    "    # Step 3: Print each word\n",
    "    print(word)\n"
   ]
  },
  {
   "cell_type": "markdown",
   "metadata": {},
   "source": [
    "Creating an Array (List):\n",
    "\n",
    "    In Python, arrays are referred to as lists. They are a way to store multiple items in one variable.\n",
    "\n",
    "    words = [\"Hello\", \"World\", \"!\"] creates a list named words containing three elements: \"Hello\", \"World\", and \"!\".\n",
    "\n",
    "    Lists are created using square brackets [ ], and elements are separated by commas.\n",
    "\n",
    "Using a Loop:\n",
    "\n",
    "    The for loop is used to iterate through each item in the list. It's a convenient way to access each element one by one.\n",
    "\n",
    "    for word in words: means \"for each item in the list words, assign it to the variable word for use inside the loop.\"\n",
    "\n",
    "Printing Each Word:\n",
    "\n",
    "    Inside the loop, print(word) prints the current element (stored in the variable word) to the screen.\n",
    "\n",
    "    As the loop runs, it picks each word from the list: \"Hello\", \"World\", and \"!\"."
   ]
  },
  {
   "cell_type": "markdown",
   "metadata": {},
   "source": [
    "Following is a list of Microsoft Copilot's key points on arrays:\n",
    "- Arrays/Lists: These are useful for grouping data together and are incredibly powerful when you need to work with multiple items at once.\n",
    "\n",
    "- Loops: A fundamental concept in programming that allows repetitive tasks to be automated. The for loop here cycles through each item in the list.\n",
    "\n",
    "- Print Function: The print() function is used to display output. It's one of the most basic and frequently used functions in Python.\n",
    "\n",
    "Suggested questions include: Can you show me examples of array operations in Python?, How do arrays differ from tuples in python? and How can I combine arrays with functions in python?"
   ]
  },
  {
   "cell_type": "markdown",
   "metadata": {},
   "source": [
    "## Initial prompt to understand how to import libraries that extend functionality\n",
    "Suggested prompt was _Could you suggest a modification of the Python code for “Hello, world!” to demonstrate the concept of importing libraries to a complete beginner in programming? Please explain the code step-by-step highlighting any key aspects_"
   ]
  },
  {
   "cell_type": "code",
   "execution_count": 29,
   "metadata": {},
   "outputs": [
    {
     "name": "stdout",
     "output_type": "stream",
     "text": [
      "Hi, Universe!\n"
     ]
    }
   ],
   "source": [
    "# Step 1: Import the 'random' library\n",
    "import random\n",
    "\n",
    "# Step 2: Create a list of greetings\n",
    "greetings = [\"Hello, World!\", \"Hi, Universe!\", \"Greetings, Earth!\"]\n",
    "\n",
    "# Step 3: Use the 'random.choice()' function to select a greeting\n",
    "random_greeting = random.choice(greetings)\n",
    "\n",
    "# Step 4: Print the randomly selected greeting\n",
    "print(random_greeting)\n"
   ]
  },
  {
   "cell_type": "markdown",
   "metadata": {},
   "source": [
    "Importing a Library:\n",
    "\n",
    "    Libraries in Python are pre-written pieces of code that you can use to make tasks easier.\n",
    "\n",
    "    import random tells Python that we want to use the built-in random library. This library contains functions for generating random numbers, selecting random items, and more.\n",
    "\n",
    "Creating a List of Greetings:\n",
    "\n",
    "    greetings = [\"Hello, World!\", \"Hi, Universe!\", \"Greetings, Earth!\"] creates a list of possible greeting messages.\n",
    "\n",
    "    Lists are versatile and let us store multiple items (in this case, strings) in one place.\n",
    "\n",
    "Using a Function from the random Library:\n",
    "\n",
    "    random.choice(greetings) selects one item at random from the greetings list.\n",
    "\n",
    "    This demonstrates how we can use a library function to simplify our work. Instead of writing complex code to choose a random greeting, we leverage the random.choice() function.\n",
    "\n",
    "Printing the Randomly Selected Greeting:\n",
    "\n",
    "    print(random_greeting) outputs the greeting chosen in the previous step."
   ]
  },
  {
   "cell_type": "markdown",
   "metadata": {},
   "source": [
    "Key Points for Beginners\n",
    "\n",
    "- Libraries: These are like toolkits that provide additional functionality. By importing a library, you can use its built-in tools without having to write them yourself.\n",
    "\n",
    "- Randomness: The random library is great for beginners because it helps you create fun, unpredictable outcomes in your programs.\n",
    "\n",
    "- Reusability: Once you know how to import and use libraries, you can reuse them in many programs, which saves time and effort."
   ]
  },
  {
   "cell_type": "markdown",
   "metadata": {},
   "source": [
    "Suggested questions from Copilot included: What are other libaries I can import in python?, Can you explain more how lists work in python? and can you provide another example using a different library?"
   ]
  },
  {
   "cell_type": "markdown",
   "metadata": {},
   "source": [
    "## Initial prompt to understand how to use conditional if, else, elif statements\n",
    "Suggested prompt: _Could you suggest a modification of the Python code for “Hello, world!” to demonstrate the concepts of if, elif, and else statements to a complete beginner in programming? Please explain the code step-by-step highlighting any key aspects._"
   ]
  },
  {
   "cell_type": "code",
   "execution_count": 30,
   "metadata": {},
   "outputs": [
    {
     "name": "stdout",
     "output_type": "stream",
     "text": [
      "Hi, Universe!\n"
     ]
    }
   ],
   "source": [
    "# Step 1: Create a variable to store a number\n",
    "user_input = 2\n",
    "\n",
    "# Step 2: Use if, elif, and else statements to decide what to print\n",
    "if user_input == 1:\n",
    "    print(\"Hello, World!\")\n",
    "elif user_input == 2:\n",
    "    print(\"Hi, Universe!\")\n",
    "else:\n",
    "    print(\"Greetings, Earth!\")\n"
   ]
  },
  {
   "cell_type": "markdown",
   "metadata": {},
   "source": [
    "Create a Variable:\n",
    "\n",
    "    user_input = 2 assigns the value 2 to the variable named user_input.\n",
    "\n",
    "    Variables in Python are like containers that store data. Here, user_input is storing a number.\n",
    "\n",
    "The if Statement:\n",
    "\n",
    "    The if statement checks a condition. If the condition is true, it executes the code inside it.\n",
    "\n",
    "    if user_input == 1: checks if the value of user_input is equal to 1. The == operator is used to compare values.\n",
    "\n",
    "The elif Statement:\n",
    "\n",
    "    elif stands for \"else if.\" It's used when you want to check another condition after the if statement.\n",
    "\n",
    "    elif user_input == 2: checks if the value of user_input is equal to 2.\n",
    "\n",
    "The else Statement:\n",
    "\n",
    "    The else statement handles all cases not covered by the if or elif conditions.\n",
    "\n",
    "    else: acts as a catch-all; if none of the above conditions are true, this block of code is executed.\n",
    "\n",
    "The print Function:\n",
    "\n",
    "    Inside each conditional block, the print() function is used to display a message based on the value of user_input."
   ]
  },
  {
   "cell_type": "markdown",
   "metadata": {},
   "source": [
    "Key Points for Beginners:\n",
    "- Conditional Statements: if, elif, and else are used to make decisions in code based on conditions.\n",
    "\n",
    "- Comparison Operator (==): This checks if two values are equal. It's crucial to distinguish this from the single = operator, which is used for assignment.\n",
    "\n",
    "- Default Case (else): When all conditions fail, else ensures that your program has a fallback behavior.\n",
    "\n",
    "Questions suggested by Copilot: What happens if I change user_input to 3?, Can you give more complex if statements?, and what are the most common syntax errors with if statements?"
   ]
  },
  {
   "cell_type": "markdown",
   "metadata": {},
   "source": [
    "## Initial prompt to understand how to use operators in Python\n",
    "Suggested prompt _Could you suggest a modification of the Python code for “Hello, world!” to demonstrate the concept of operators to a complete beginner in programming? Please explain the code step-by-step highlighting any key aspects. Include discussions about addition and multiplication between strings and numbers?_"
   ]
  },
  {
   "cell_type": "code",
   "execution_count": 31,
   "metadata": {},
   "outputs": [
    {
     "name": "stdout",
     "output_type": "stream",
     "text": [
      "Hello, World!\n",
      "Hello! Hello! Hello! \n",
      "Sum: 15\n",
      "Product: 12\n"
     ]
    }
   ],
   "source": [
    "# Step 1: Demonstrate addition with strings\n",
    "greeting = \"Hello\" + \", World!\"\n",
    "\n",
    "# Step 2: Demonstrate multiplication with strings\n",
    "repeated_greeting = \"Hello! \" * 3\n",
    "\n",
    "# Step 3: Demonstrate addition with numbers\n",
    "number_sum = 10 + 5\n",
    "\n",
    "# Step 4: Demonstrate multiplication with numbers\n",
    "number_product = 4 * 3\n",
    "\n",
    "# Step 5: Print the results\n",
    "print(greeting)                  # Output: Hello, World!\n",
    "print(repeated_greeting)         # Output: Hello! Hello! Hello!\n",
    "print(\"Sum:\", number_sum)        # Output: Sum: 15\n",
    "print(\"Product:\", number_product) # Output: Product: 12\n"
   ]
  },
  {
   "cell_type": "markdown",
   "metadata": {},
   "source": [
    "String Addition (+):\n",
    "\n",
    "    greeting = \"Hello\" + \", World!\" combines the two strings \"Hello\" and \", World!\" into a single string: \"Hello, World!\".\n",
    "\n",
    "    The + operator, when used with strings, is called concatenation. It joins two strings together.\n",
    "\n",
    "String Multiplication (*):\n",
    "\n",
    "    repeated_greeting = \"Hello! \" * 3 creates a new string by repeating \"Hello! \" three times.\n",
    "\n",
    "    The * operator, when used with a string and a number, repeats the string the specified number of times.\n",
    "\n",
    "Number Addition (+):\n",
    "\n",
    "    number_sum = 10 + 5 adds the two numbers 10 and 5, resulting in 15.\n",
    "\n",
    "    The + operator, when used with numbers, performs standard arithmetic addition.\n",
    "\n",
    "Number Multiplication (*):\n",
    "\n",
    "    number_product = 4 * 3 multiplies the two numbers 4 and 3, resulting in 12.\n",
    "\n",
    "    The * operator, when used with numbers, performs standard arithmetic multiplication.\n",
    "\n",
    "Print Function:\n",
    "\n",
    "    The print() function is used to display the results of the operations. For clarity, text like \"Sum:\" is included before the value of number_sum."
   ]
  },
  {
   "cell_type": "markdown",
   "metadata": {},
   "source": [
    "Key Concepts for Beginners\n",
    "\n",
    "- Operators:\n",
    "    - The + operator has different meanings depending on the data type:\n",
    "        For strings, it concatenates them.\n",
    "        For numbers, it adds them.\n",
    "\n",
    "    - Similarly, the * operator:\n",
    "        For strings, it repeats the string.\n",
    "        For numbers, it multiplies them.\n",
    "\n",
    "    - Dynamic Behavior:\n",
    "        - Python's operators are \"overloaded,\" meaning their functionality changes based on the type of data they're working with.\n",
    "\n",
    "    - Repetition:\n",
    "        - String multiplication is a fun feature in Python that lets you easily repeat text."
   ]
  },
  {
   "cell_type": "markdown",
   "metadata": {},
   "source": [
    "## Initial prompt to understand how to use advanced concepts such as classes, objects, and methods (try one term at a time if it is too much to handle at once)\n",
    "Suggested prompt _Could you suggest a modification of the Python code for “Hello, world!” to demonstrate the concept of classes, objects and methods to a complete beginner in programming? Please explain the code step-by-step highlighting any key aspects._"
   ]
  },
  {
   "cell_type": "code",
   "execution_count": 32,
   "metadata": {},
   "outputs": [
    {
     "name": "stdout",
     "output_type": "stream",
     "text": [
      "Hello, World!\n"
     ]
    }
   ],
   "source": [
    "# Step 1: Define a class\n",
    "class Greeter:\n",
    "    # Step 2: Define a method inside the class\n",
    "    def say_hello(self):\n",
    "        print(\"Hello, World!\")\n",
    "\n",
    "# Step 3: Create an object of the class\n",
    "my_greeter = Greeter()\n",
    "\n",
    "# Step 4: Call the method using the object\n",
    "my_greeter.say_hello()\n"
   ]
  },
  {
   "cell_type": "markdown",
   "metadata": {},
   "source": [
    "Defining a Class:\n",
    "\n",
    "    A class is like a blueprint for creating objects. It groups together data (attributes) and behaviors (methods).\n",
    "\n",
    "    class Greeter: defines a class named Greeter.\n",
    "\n",
    "    In Python, classes are defined using the class keyword followed by the name of the class (by convention, it starts with a capital letter).\n",
    "\n",
    "Defining a Method:\n",
    "\n",
    "    A method is a function that belongs to a class. It defines what the objects of the class can do.\n",
    "\n",
    "    def say_hello(self): defines a method called say_hello. The self parameter refers to the instance (or object) calling the method.\n",
    "\n",
    "    Inside the method, print(\"Hello, World!\") specifies what happens when this method is called: it prints \"Hello, World!\".\n",
    "\n",
    "Creating an Object:\n",
    "\n",
    "    An object is an instance of a class. You can think of it as a specific \"realization\" of the class blueprint.\n",
    "\n",
    "    my_greeter = Greeter() creates an object named my_greeter of the Greeter class.\n",
    "\n",
    "    You use the class name followed by parentheses to create an object (i.e., calling the class like a function).\n",
    "\n",
    "Calling a Method:\n",
    "\n",
    "    Once you have an object, you can use it to call the methods defined in its class.\n",
    "\n",
    "    my_greeter.say_hello() calls the say_hello method on the my_greeter object, which executes the code inside the method and prints \"Hello, World!\"."
   ]
  },
  {
   "cell_type": "markdown",
   "metadata": {},
   "source": [
    "Key Points for Beginners\n",
    "\n",
    "    Classes:\n",
    "\n",
    "        Classes help organize code, especially as programs grow in complexity. They are fundamental to object-oriented programming (OOP).\n",
    "\n",
    "        A class combines related data and behavior into one entity.\n",
    "\n",
    "    Objects:\n",
    "\n",
    "        Objects are created from classes and allow you to interact with the class's methods and attributes.\n",
    "\n",
    "        You can create multiple objects from the same class, each with potentially different data.\n",
    "\n",
    "    Methods:\n",
    "\n",
    "        Methods are actions that an object can perform. They operate on the data within the object.\n",
    "\n",
    "        The self parameter in every method ensures the method can access the object's data and other methods."
   ]
  },
  {
   "cell_type": "markdown",
   "metadata": {},
   "source": [
    "Suggested questions: What are more examples of classes in python?, can you explain inheritance in python classes?, and how can I use classes in real-world programming projects? "
   ]
  },
  {
   "cell_type": "markdown",
   "metadata": {},
   "source": [
    "## Initial prompt to learn more about basic Python syntax\n",
    "Suggested prompt: _Could you use the examples you have provided above to explain basic syntax of Python to a complete beginner in programming? Please explain step-by-step highlighting any key aspects. Please include well known references to Python styling guides._"
   ]
  },
  {
   "cell_type": "code",
   "execution_count": 33,
   "metadata": {},
   "outputs": [
    {
     "name": "stdout",
     "output_type": "stream",
     "text": [
      "Hello, World!\n",
      "Hello, World!\n",
      "Hi, Universe!\n",
      "Hello\n",
      "World\n",
      "!\n",
      "Hello, World!\n",
      "Hello, World!\n",
      "Hello! Hello! Hello! \n",
      "Greetings, Earth!\n"
     ]
    }
   ],
   "source": [
    "# 1. Comments\n",
    "# This is a comment explaining the code.\n",
    "print(\"Hello, World!\")\n",
    "\n",
    "# 2. Variables\n",
    "user_input = 2  # Assign the value 2 to the variable named user_input\n",
    "\n",
    "# 3. Data Types\n",
    "greeting = \"Hello, World!\"  # String\n",
    "number_sum = 10 + 5         # Integer arithmetic\n",
    "\n",
    "# 4. Indentation\n",
    "if user_input == 1:\n",
    "    print(\"Hello, World!\")  # Indented block\n",
    "\n",
    "# 5. Functions\n",
    "def say_hello():\n",
    "    print(\"Hello, World!\")  # Function definition\n",
    "say_hello()  # Function call\n",
    "\n",
    "# 6. Conditional Statements\n",
    "if user_input == 1:\n",
    "    print(\"Hello, World!\")\n",
    "elif user_input == 2:\n",
    "    print(\"Hi, Universe!\")\n",
    "else:\n",
    "    print(\"Greetings, Earth!\")\n",
    "\n",
    "# 7. Loops\n",
    "words = [\"Hello\", \"World\", \"!\"]\n",
    "for word in words:\n",
    "    print(word)  # Prints each word\n",
    "\n",
    "# 8. Classes and Objects\n",
    "class Greeter:\n",
    "    def say_hello(self):\n",
    "        print(\"Hello, World!\")  # Method within the class\n",
    "\n",
    "my_greeter = Greeter()  # Object creation\n",
    "my_greeter.say_hello()  # Method call\n",
    "\n",
    "# 9. Operators\n",
    "greeting = \"Hello\" + \", World!\"  # String concatenation\n",
    "repeated_greeting = \"Hello! \" * 3  # String multiplication\n",
    "print(greeting)\n",
    "print(repeated_greeting)\n",
    "\n",
    "# 10. Libraries\n",
    "import random\n",
    "greetings = [\"Hello, World!\", \"Hi, Universe!\", \"Greetings, Earth!\"]\n",
    "random_greeting = random.choice(greetings)  # Randomly pick a greeting\n",
    "print(random_greeting)\n"
   ]
  },
  {
   "cell_type": "markdown",
   "metadata": {},
   "source": [
    "## Initial prompt to learn more about best practice in Python to promote principles of simplicity, security and inclusion\n",
    "Suggested prompt: _Could you suggest three different Python implementations of the Hello World program to emphasise,\n",
    "respectively, principles of simplicity, security, and inclusion? Please explain step-by-step highlighting any key aspects._"
   ]
  },
  {
   "cell_type": "code",
   "execution_count": 34,
   "metadata": {},
   "outputs": [
    {
     "name": "stdout",
     "output_type": "stream",
     "text": [
      "Hello, World!\n"
     ]
    },
    {
     "ename": "KeyboardInterrupt",
     "evalue": "Interrupted by user",
     "output_type": "error",
     "traceback": [
      "\u001b[31m---------------------------------------------------------------------------\u001b[39m",
      "\u001b[31mKeyboardInterrupt\u001b[39m                         Traceback (most recent call last)",
      "\u001b[36mCell\u001b[39m\u001b[36m \u001b[39m\u001b[32mIn[34]\u001b[39m\u001b[32m, line 6\u001b[39m\n\u001b[32m      2\u001b[39m \u001b[38;5;28mprint\u001b[39m(\u001b[33m\"\u001b[39m\u001b[33mHello, World!\u001b[39m\u001b[33m\"\u001b[39m)  \u001b[38;5;66;03m# A simple and clear example for beginners\u001b[39;00m\n\u001b[32m      4\u001b[39m \u001b[38;5;66;03m# 2. Security\u001b[39;00m\n\u001b[32m      5\u001b[39m \u001b[38;5;66;03m# Get user input\u001b[39;00m\n\u001b[32m----> \u001b[39m\u001b[32m6\u001b[39m user_input = \u001b[38;5;28;43minput\u001b[39;49m\u001b[43m(\u001b[49m\u001b[33;43m\"\u001b[39;49m\u001b[33;43mEnter your greeting: \u001b[39;49m\u001b[33;43m\"\u001b[39;49m\u001b[43m)\u001b[49m\n\u001b[32m      7\u001b[39m \u001b[38;5;66;03m# Sanitize input to remove potentially harmful characters\u001b[39;00m\n\u001b[32m      8\u001b[39m safe_input = user_input.replace(\u001b[33m\"\u001b[39m\u001b[33m<\u001b[39m\u001b[33m\"\u001b[39m, \u001b[33m\"\u001b[39m\u001b[33m\"\u001b[39m).replace(\u001b[33m\"\u001b[39m\u001b[33m>\u001b[39m\u001b[33m\"\u001b[39m, \u001b[33m\"\u001b[39m\u001b[33m\"\u001b[39m).replace(\u001b[33m\"\u001b[39m\u001b[33m&\u001b[39m\u001b[33m\"\u001b[39m, \u001b[33m\"\u001b[39m\u001b[33m\"\u001b[39m)\n",
      "\u001b[36mFile \u001b[39m\u001b[32m~/.local/lib/python3.12/site-packages/ipykernel/kernelbase.py:1282\u001b[39m, in \u001b[36mKernel.raw_input\u001b[39m\u001b[34m(self, prompt)\u001b[39m\n\u001b[32m   1280\u001b[39m     msg = \u001b[33m\"\u001b[39m\u001b[33mraw_input was called, but this frontend does not support input requests.\u001b[39m\u001b[33m\"\u001b[39m\n\u001b[32m   1281\u001b[39m     \u001b[38;5;28;01mraise\u001b[39;00m StdinNotImplementedError(msg)\n\u001b[32m-> \u001b[39m\u001b[32m1282\u001b[39m \u001b[38;5;28;01mreturn\u001b[39;00m \u001b[38;5;28;43mself\u001b[39;49m\u001b[43m.\u001b[49m\u001b[43m_input_request\u001b[49m\u001b[43m(\u001b[49m\n\u001b[32m   1283\u001b[39m \u001b[43m    \u001b[49m\u001b[38;5;28;43mstr\u001b[39;49m\u001b[43m(\u001b[49m\u001b[43mprompt\u001b[49m\u001b[43m)\u001b[49m\u001b[43m,\u001b[49m\n\u001b[32m   1284\u001b[39m \u001b[43m    \u001b[49m\u001b[38;5;28;43mself\u001b[39;49m\u001b[43m.\u001b[49m\u001b[43m_parent_ident\u001b[49m\u001b[43m[\u001b[49m\u001b[33;43m\"\u001b[39;49m\u001b[33;43mshell\u001b[39;49m\u001b[33;43m\"\u001b[39;49m\u001b[43m]\u001b[49m\u001b[43m,\u001b[49m\n\u001b[32m   1285\u001b[39m \u001b[43m    \u001b[49m\u001b[38;5;28;43mself\u001b[39;49m\u001b[43m.\u001b[49m\u001b[43mget_parent\u001b[49m\u001b[43m(\u001b[49m\u001b[33;43m\"\u001b[39;49m\u001b[33;43mshell\u001b[39;49m\u001b[33;43m\"\u001b[39;49m\u001b[43m)\u001b[49m\u001b[43m,\u001b[49m\n\u001b[32m   1286\u001b[39m \u001b[43m    \u001b[49m\u001b[43mpassword\u001b[49m\u001b[43m=\u001b[49m\u001b[38;5;28;43;01mFalse\u001b[39;49;00m\u001b[43m,\u001b[49m\n\u001b[32m   1287\u001b[39m \u001b[43m\u001b[49m\u001b[43m)\u001b[49m\n",
      "\u001b[36mFile \u001b[39m\u001b[32m~/.local/lib/python3.12/site-packages/ipykernel/kernelbase.py:1325\u001b[39m, in \u001b[36mKernel._input_request\u001b[39m\u001b[34m(self, prompt, ident, parent, password)\u001b[39m\n\u001b[32m   1322\u001b[39m \u001b[38;5;28;01mexcept\u001b[39;00m \u001b[38;5;167;01mKeyboardInterrupt\u001b[39;00m:\n\u001b[32m   1323\u001b[39m     \u001b[38;5;66;03m# re-raise KeyboardInterrupt, to truncate traceback\u001b[39;00m\n\u001b[32m   1324\u001b[39m     msg = \u001b[33m\"\u001b[39m\u001b[33mInterrupted by user\u001b[39m\u001b[33m\"\u001b[39m\n\u001b[32m-> \u001b[39m\u001b[32m1325\u001b[39m     \u001b[38;5;28;01mraise\u001b[39;00m \u001b[38;5;167;01mKeyboardInterrupt\u001b[39;00m(msg) \u001b[38;5;28;01mfrom\u001b[39;00m\u001b[38;5;250m \u001b[39m\u001b[38;5;28;01mNone\u001b[39;00m\n\u001b[32m   1326\u001b[39m \u001b[38;5;28;01mexcept\u001b[39;00m \u001b[38;5;167;01mException\u001b[39;00m:\n\u001b[32m   1327\u001b[39m     \u001b[38;5;28mself\u001b[39m.log.warning(\u001b[33m\"\u001b[39m\u001b[33mInvalid Message:\u001b[39m\u001b[33m\"\u001b[39m, exc_info=\u001b[38;5;28;01mTrue\u001b[39;00m)\n",
      "\u001b[31mKeyboardInterrupt\u001b[39m: Interrupted by user"
     ]
    }
   ],
   "source": [
    "# 1. Simplicity\n",
    "print(\"Hello, World!\")  # A simple and clear example for beginners\n",
    "\n",
    "# 2. Security\n",
    "# Get user input\n",
    "user_input = input(\"Enter your greeting: \")\n",
    "# Sanitize input to remove potentially harmful characters\n",
    "safe_input = user_input.replace(\"<\", \"\").replace(\">\", \"\").replace(\"&\", \"\")\n",
    "# Print the sanitized greeting\n",
    "print(f\"Hello, {safe_input}!\")  # Securely display the sanitized input\n",
    "\n",
    "# 3. Inclusion\n",
    "# Define a dictionary of greetings in different languages\n",
    "greetings = {\n",
    "    \"en\": \"Hello, World!\",   # English\n",
    "    \"es\": \"Hola, Mundo!\",    # Spanish\n",
    "    \"fr\": \"Bonjour, le Monde!\",  # French\n",
    "    \"de\": \"Hallo, Welt!\",    # German\n",
    "    \"ja\": \"こんにちは、世界！\",  # Japanese\n",
    "}\n",
    "\n",
    "# Prompt the user to select a language\n",
    "language = input(\"Enter language code (en/es/fr/de/ja): \").lower()\n",
    "# Provide a fallback for unsupported languages\n",
    "if language in greetings:\n",
    "    print(greetings[language])  # Print the greeting in the selected language\n",
    "else:\n",
    "    print(\"Hello, Friend!\")  # Gender-neutral and inclusive fallback\n"
   ]
  },
  {
   "cell_type": "markdown",
   "metadata": {},
   "source": [
    "    Dictionary of Greetings:\n",
    "\n",
    "        greetings stores \"Hello, World!\" in multiple languages (English, Spanish, French, German, Japanese) to promote inclusivity and accommodate diversity.\n",
    "\n",
    "    User Choice:\n",
    "\n",
    "        input() allows users to select their preferred language by entering a language code (e.g., en for English, es for Spanish).\n",
    "\n",
    "    Fallback:\n",
    "\n",
    "        if language in greetings: checks if the entered code matches one in the dictionary.\n",
    "\n",
    "        If no match is found, \"Hello, Friend!\" provides a fallback that is inclusive and gender-neutral.\n",
    "\n",
    "Key Point: Inclusion in programming means designing applications that accommodate diverse users by offering choices and avoiding assumptions."
   ]
  },
  {
   "cell_type": "markdown",
   "metadata": {},
   "source": [
    "## Learning outcomes and my experience learning the Python programming concept using Copilot\n",
    "My experience of using Copilot to learn Python concepts was overall good. Copilot is an excellent and comprehensive tool for breaking down complex ideas into an easy-to-understand format and provides working examples of code. It also offers further questions to aid understanding. At times, I did have to ask Copilot to reformat elements of the code, but other than that, I didn't experience any issues.   "
   ]
  },
  {
   "cell_type": "markdown",
   "metadata": {},
   "source": [
    "## Exploring Other Prompts and Concepts\n",
    "\n",
    "I decided to explore data structures further and asked Copilot: _Introduction to lists and how to use them in python._"
   ]
  },
  {
   "cell_type": "code",
   "execution_count": null,
   "metadata": {},
   "outputs": [],
   "source": [
    "# Creating lists\n",
    "numbers = [1, 2, 3, 4, 5]\n",
    "fruits = [\"apple\", \"banana\", \"cherry\"]\n",
    "mixed_list = [1, \"hello\", 3.14, True]\n",
    "\n",
    "# Accessing list elements\n",
    "print(numbers[0])  # Output: 1\n",
    "print(fruits[1])   # Output: banana\n",
    "\n",
    "# Modifying list elements\n",
    "fruits[1] = \"blueberry\"\n",
    "print(fruits)  # Output: [\"apple\", \"blueberry\", \"cherry\"]\n",
    "\n",
    "# Adding elements to a list\n",
    "fruits.append(\"orange\")\n",
    "print(fruits)  # Output: [\"apple\", \"blueberry\", \"cherry\", \"orange\"]\n",
    "fruits.insert(1, \"banana\")\n",
    "print(fruits)  # Output: [\"apple\", \"banana\", \"blueberry\", \"cherry\", \"orange\"]\n",
    "\n",
    "# Removing elements from a list\n",
    "fruits.remove(\"banana\")\n",
    "print(fruits)  # Output: [\"apple\", \"blueberry\", \"cherry\", \"orange\"]\n",
    "fruits.pop(2)\n",
    "print(fruits)  # Output: [\"apple\", \"blueberry\", \"orange\"]\n",
    "\n",
    "# Iterating through a list\n",
    "for fruit in fruits:\n",
    "    print(fruit)\n",
    "\n",
    "# List comprehensions\n",
    "squares = [x**2 for x in range(1, 6)]\n",
    "print(squares)  # Output: [1, 4, 9, 16, 25]\n"
   ]
  },
  {
   "cell_type": "markdown",
   "metadata": {},
   "source": [
    "I then explored if Copilot could make this more beginner friendy by asking the following prompt: _Introduction to lists and how to use them in python for beginners_"
   ]
  },
  {
   "cell_type": "code",
   "execution_count": null,
   "metadata": {},
   "outputs": [],
   "source": [
    "# Creating lists\n",
    "numbers = [1, 2, 3, 4, 5]  # A list of numbers\n",
    "fruits = [\"apple\", \"banana\", \"cherry\"]  # A list of fruits\n",
    "mixed_list = [1, \"hello\", 3.14, True]  # A list with different types of items\n",
    "\n",
    "# Accessing list elements\n",
    "print(numbers[0])  # This will show 1\n",
    "print(fruits[1])   # This will show banana\n",
    "\n",
    "# Modifying list elements\n",
    "fruits[1] = \"blueberry\"\n",
    "print(fruits)  # This will show [\"apple\", \"blueberry\", \"cherry\"]\n",
    "\n",
    "# Adding elements to a list\n",
    "fruits.append(\"orange\")\n",
    "print(fruits)  # This will show [\"apple\", \"blueberry\", \"cherry\", \"orange\"]\n",
    "fruits.insert(1, \"banana\")\n",
    "print(fruits)  # This will show [\"apple\", \"banana\", \"blueberry\", \"cherry\", \"orange\"]\n",
    "\n",
    "# Removing elements from a list\n",
    "fruits.remove(\"banana\")\n",
    "print(fruits)  # This will show [\"apple\", \"blueberry\", \"cherry\", \"orange\"]\n",
    "fruits.pop(2)\n",
    "print(fruits)  # This will show [\"apple\", \"blueberry\", \"orange\"]\n",
    "\n",
    "# Iterating through a list\n",
    "for fruit in fruits:\n",
    "    print(fruit)  # This will print each fruit in the list\n",
    "\n",
    "# List comprehensions\n",
    "squares = [x**2 for x in range(1, 6)]\n",
    "print(squares)  # This will show [1, 4, 9, 16, 25]\n"
   ]
  },
  {
   "cell_type": "markdown",
   "metadata": {},
   "source": [
    "On exploring and comparing these answers, it is able to provide a simplier answer with more explanations even though the overall content remains the same. "
   ]
  },
  {
   "cell_type": "code",
   "execution_count": 35,
   "metadata": {},
   "outputs": [
    {
     "data": {
      "image/jpeg": "[encoded data removed]",
      "text/html": [
       "\n",
       "        <iframe\n",
       "            width=\"400\"\n",
       "            height=\"300\"\n",
       "            src=\"https://www.youtube.com/embed/v_1iqtOnUMg\"\n",
       "            frameborder=\"0\"\n",
       "            allowfullscreen\n",
       "            \n",
       "        ></iframe>\n",
       "        "
      ],
      "text/plain": [
       "<IPython.lib.display.YouTubeVideo at 0x7e81b8377890>"
      ]
     },
     "execution_count": 35,
     "metadata": {},
     "output_type": "execute_result"
    }
   ],
   "source": [
    "from IPython.display import YouTubeVideo\n",
    "\n",
    "\n",
    "YouTubeVideo(\"v_1iqtOnUMg\")\n"
   ]
  },
  {
   "cell_type": "markdown",
   "metadata": {},
   "source": [
    "## Using IPython.display to display images and audio\n"
   ]
  },
  {
   "cell_type": "code",
   "execution_count": 50,
   "metadata": {},
   "outputs": [
    {
     "data": {
      "image/jpeg": "[encoded data removed]",
      "text/plain": [
       "<IPython.core.display.Image object>"
      ]
     },
     "execution_count": 50,
     "metadata": {},
     "output_type": "execute_result"
    }
   ],
   "source": [
    "from IPython.display import display, Image\n",
    "\n",
    "Image(\"picture1.jpg\")\n"
   ]
  },
  {
   "cell_type": "code",
   "execution_count": null,
   "metadata": {},
   "outputs": [],
   "source": [
    "from IPython.display import Audio\n",
    "\n",
    "audio_file_path = 'GoldbergVariations_MehmetOkonsar-1of3_Var1to10.ogg'\n",
    "Audio(audio_file_path)\n"
   ]
  },
  {
   "cell_type": "code",
   "execution_count": null,
   "metadata": {},
   "outputs": [],
   "source": [
    "from IPython.display import Audio\n",
    "\n",
    "audio_file_path = 'audio1.mid' \n",
    "Audio(audio_file_path)\n",
    "\n",
    "# This audio licensed under the Creative Commons Attribution-Share Alike 3.0 Unported license.\n"
   ]
  },
  {
   "cell_type": "markdown",
   "metadata": {},
   "source": [
    "The audio uploaded does play, however one tends to crash the codespace making it unusable. "
   ]
  }
 ],
 "metadata": {
  "kernelspec": {
   "display_name": "Python 3",
   "language": "python",
   "name": "python3"
  },
  "language_info": {
   "codemirror_mode": {
    "name": "ipython",
    "version": 3
   },
   "file_extension": ".py",
   "mimetype": "text/x-python",
   "name": "python",
   "nbconvert_exporter": "python",
   "pygments_lexer": "ipython3",
   "version": "3.12.1"
  }
 },
 "nbformat": 4,
 "nbformat_minor": 4
}
