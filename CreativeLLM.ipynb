{
 "cells": [
  {
   "cell_type": "markdown",
   "id": "80ed4655",
   "metadata": {},
   "source": [
    "## Designing a Creative Large Language Model Application\n",
    "\n",
    "The creative Large Language Model (LLM) application I would design would be debating software, but rather than being overall like the current ones (such as https://deepai.org/chat/debate, https://masterdebater.ai), my application would be trained on arts and humanities-specific databases. In return, creating a more accurate and relevant tool based in academia.\n",
    "\n",
    "### Interaction Design\n",
    "In order to demonstrate how interaction design would work with my LLM, I've created a mock-up in Canva which is displayed below:\n"
   ]
  },
  {
   "cell_type": "code",
   "execution_count": 1,
   "id": "f3c835e6",
   "metadata": {},
   "outputs": [
    {
     "ename": "FileNotFoundError",
     "evalue": "No such file or directory: 'graphic.png'",
     "output_type": "error",
     "traceback": [
      "\u001b[31m---------------------------------------------------------------------------\u001b[39m",
      "\u001b[31mTypeError\u001b[39m                                 Traceback (most recent call last)",
      "\u001b[36mFile \u001b[39m\u001b[32m~/.local/lib/python3.12/site-packages/IPython/core/display.py:1100\u001b[39m, in \u001b[36mImage._data_and_metadata\u001b[39m\u001b[34m(self, always_both)\u001b[39m\n\u001b[32m   1099\u001b[39m \u001b[38;5;28;01mtry\u001b[39;00m:\n\u001b[32m-> \u001b[39m\u001b[32m1100\u001b[39m     b64_data = \u001b[43mb2a_base64\u001b[49m\u001b[43m(\u001b[49m\u001b[38;5;28;43mself\u001b[39;49m\u001b[43m.\u001b[49m\u001b[43mdata\u001b[49m\u001b[43m,\u001b[49m\u001b[43m \u001b[49m\u001b[43mnewline\u001b[49m\u001b[43m=\u001b[49m\u001b[38;5;28;43;01mFalse\u001b[39;49;00m\u001b[43m)\u001b[49m.decode(\u001b[33m\"\u001b[39m\u001b[33mascii\u001b[39m\u001b[33m\"\u001b[39m)\n\u001b[32m   1101\u001b[39m \u001b[38;5;28;01mexcept\u001b[39;00m \u001b[38;5;167;01mTypeError\u001b[39;00m \u001b[38;5;28;01mas\u001b[39;00m e:\n",
      "\u001b[31mTypeError\u001b[39m: a bytes-like object is required, not 'str'",
      "\nThe above exception was the direct cause of the following exception:\n",
      "\u001b[31mFileNotFoundError\u001b[39m                         Traceback (most recent call last)",
      "\u001b[36mFile \u001b[39m\u001b[32m~/.local/lib/python3.12/site-packages/IPython/core/formatters.py:1036\u001b[39m, in \u001b[36mMimeBundleFormatter.__call__\u001b[39m\u001b[34m(self, obj, include, exclude)\u001b[39m\n\u001b[32m   1033\u001b[39m     method = get_real_method(obj, \u001b[38;5;28mself\u001b[39m.print_method)\n\u001b[32m   1035\u001b[39m     \u001b[38;5;28;01mif\u001b[39;00m method \u001b[38;5;129;01mis\u001b[39;00m \u001b[38;5;129;01mnot\u001b[39;00m \u001b[38;5;28;01mNone\u001b[39;00m:\n\u001b[32m-> \u001b[39m\u001b[32m1036\u001b[39m         \u001b[38;5;28;01mreturn\u001b[39;00m \u001b[43mmethod\u001b[49m\u001b[43m(\u001b[49m\u001b[43minclude\u001b[49m\u001b[43m=\u001b[49m\u001b[43minclude\u001b[49m\u001b[43m,\u001b[49m\u001b[43m \u001b[49m\u001b[43mexclude\u001b[49m\u001b[43m=\u001b[49m\u001b[43mexclude\u001b[49m\u001b[43m)\u001b[49m\n\u001b[32m   1037\u001b[39m     \u001b[38;5;28;01mreturn\u001b[39;00m \u001b[38;5;28;01mNone\u001b[39;00m\n\u001b[32m   1038\u001b[39m \u001b[38;5;28;01melse\u001b[39;00m:\n",
      "\u001b[36mFile \u001b[39m\u001b[32m~/.local/lib/python3.12/site-packages/IPython/core/display.py:1090\u001b[39m, in \u001b[36mImage._repr_mimebundle_\u001b[39m\u001b[34m(self, include, exclude)\u001b[39m\n\u001b[32m   1088\u001b[39m \u001b[38;5;28;01mif\u001b[39;00m \u001b[38;5;28mself\u001b[39m.embed:\n\u001b[32m   1089\u001b[39m     mimetype = \u001b[38;5;28mself\u001b[39m._mimetype\n\u001b[32m-> \u001b[39m\u001b[32m1090\u001b[39m     data, metadata = \u001b[38;5;28;43mself\u001b[39;49m\u001b[43m.\u001b[49m\u001b[43m_data_and_metadata\u001b[49m\u001b[43m(\u001b[49m\u001b[43malways_both\u001b[49m\u001b[43m=\u001b[49m\u001b[38;5;28;43;01mTrue\u001b[39;49;00m\u001b[43m)\u001b[49m\n\u001b[32m   1091\u001b[39m     \u001b[38;5;28;01mif\u001b[39;00m metadata:\n\u001b[32m   1092\u001b[39m         metadata = {mimetype: metadata}\n",
      "\u001b[36mFile \u001b[39m\u001b[32m~/.local/lib/python3.12/site-packages/IPython/core/display.py:1102\u001b[39m, in \u001b[36mImage._data_and_metadata\u001b[39m\u001b[34m(self, always_both)\u001b[39m\n\u001b[32m   1100\u001b[39m     b64_data = b2a_base64(\u001b[38;5;28mself\u001b[39m.data, newline=\u001b[38;5;28;01mFalse\u001b[39;00m).decode(\u001b[33m\"\u001b[39m\u001b[33mascii\u001b[39m\u001b[33m\"\u001b[39m)\n\u001b[32m   1101\u001b[39m \u001b[38;5;28;01mexcept\u001b[39;00m \u001b[38;5;167;01mTypeError\u001b[39;00m \u001b[38;5;28;01mas\u001b[39;00m e:\n\u001b[32m-> \u001b[39m\u001b[32m1102\u001b[39m     \u001b[38;5;28;01mraise\u001b[39;00m \u001b[38;5;167;01mFileNotFoundError\u001b[39;00m(\n\u001b[32m   1103\u001b[39m         \u001b[33m\"\u001b[39m\u001b[33mNo such file or directory: \u001b[39m\u001b[33m'\u001b[39m\u001b[38;5;132;01m%s\u001b[39;00m\u001b[33m'\u001b[39m\u001b[33m\"\u001b[39m % (\u001b[38;5;28mself\u001b[39m.data)) \u001b[38;5;28;01mfrom\u001b[39;00m\u001b[38;5;250m \u001b[39m\u001b[34;01me\u001b[39;00m\n\u001b[32m   1104\u001b[39m md = {}\n\u001b[32m   1105\u001b[39m \u001b[38;5;28;01mif\u001b[39;00m \u001b[38;5;28mself\u001b[39m.metadata:\n",
      "\u001b[31mFileNotFoundError\u001b[39m: No such file or directory: 'graphic.png'"
     ]
    },
    {
     "ename": "FileNotFoundError",
     "evalue": "No such file or directory: 'graphic.png'",
     "output_type": "error",
     "traceback": [
      "\u001b[31m---------------------------------------------------------------------------\u001b[39m",
      "\u001b[31mTypeError\u001b[39m                                 Traceback (most recent call last)",
      "\u001b[36mFile \u001b[39m\u001b[32m~/.local/lib/python3.12/site-packages/IPython/core/display.py:1100\u001b[39m, in \u001b[36mImage._data_and_metadata\u001b[39m\u001b[34m(self, always_both)\u001b[39m\n\u001b[32m   1099\u001b[39m \u001b[38;5;28;01mtry\u001b[39;00m:\n\u001b[32m-> \u001b[39m\u001b[32m1100\u001b[39m     b64_data = \u001b[43mb2a_base64\u001b[49m\u001b[43m(\u001b[49m\u001b[38;5;28;43mself\u001b[39;49m\u001b[43m.\u001b[49m\u001b[43mdata\u001b[49m\u001b[43m,\u001b[49m\u001b[43m \u001b[49m\u001b[43mnewline\u001b[49m\u001b[43m=\u001b[49m\u001b[38;5;28;43;01mFalse\u001b[39;49;00m\u001b[43m)\u001b[49m.decode(\u001b[33m\"\u001b[39m\u001b[33mascii\u001b[39m\u001b[33m\"\u001b[39m)\n\u001b[32m   1101\u001b[39m \u001b[38;5;28;01mexcept\u001b[39;00m \u001b[38;5;167;01mTypeError\u001b[39;00m \u001b[38;5;28;01mas\u001b[39;00m e:\n",
      "\u001b[31mTypeError\u001b[39m: a bytes-like object is required, not 'str'",
      "\nThe above exception was the direct cause of the following exception:\n",
      "\u001b[31mFileNotFoundError\u001b[39m                         Traceback (most recent call last)",
      "\u001b[36mFile \u001b[39m\u001b[32m~/.local/lib/python3.12/site-packages/IPython/core/formatters.py:406\u001b[39m, in \u001b[36mBaseFormatter.__call__\u001b[39m\u001b[34m(self, obj)\u001b[39m\n\u001b[32m    404\u001b[39m     method = get_real_method(obj, \u001b[38;5;28mself\u001b[39m.print_method)\n\u001b[32m    405\u001b[39m     \u001b[38;5;28;01mif\u001b[39;00m method \u001b[38;5;129;01mis\u001b[39;00m \u001b[38;5;129;01mnot\u001b[39;00m \u001b[38;5;28;01mNone\u001b[39;00m:\n\u001b[32m--> \u001b[39m\u001b[32m406\u001b[39m         \u001b[38;5;28;01mreturn\u001b[39;00m \u001b[43mmethod\u001b[49m\u001b[43m(\u001b[49m\u001b[43m)\u001b[49m\n\u001b[32m    407\u001b[39m     \u001b[38;5;28;01mreturn\u001b[39;00m \u001b[38;5;28;01mNone\u001b[39;00m\n\u001b[32m    408\u001b[39m \u001b[38;5;28;01melse\u001b[39;00m:\n",
      "\u001b[36mFile \u001b[39m\u001b[32m~/.local/lib/python3.12/site-packages/IPython/core/display.py:1122\u001b[39m, in \u001b[36mImage._repr_png_\u001b[39m\u001b[34m(self)\u001b[39m\n\u001b[32m   1120\u001b[39m \u001b[38;5;28;01mdef\u001b[39;00m\u001b[38;5;250m \u001b[39m\u001b[34m_repr_png_\u001b[39m(\u001b[38;5;28mself\u001b[39m):\n\u001b[32m   1121\u001b[39m     \u001b[38;5;28;01mif\u001b[39;00m \u001b[38;5;28mself\u001b[39m.embed \u001b[38;5;129;01mand\u001b[39;00m \u001b[38;5;28mself\u001b[39m.format == \u001b[38;5;28mself\u001b[39m._FMT_PNG:\n\u001b[32m-> \u001b[39m\u001b[32m1122\u001b[39m         \u001b[38;5;28;01mreturn\u001b[39;00m \u001b[38;5;28;43mself\u001b[39;49m\u001b[43m.\u001b[49m\u001b[43m_data_and_metadata\u001b[49m\u001b[43m(\u001b[49m\u001b[43m)\u001b[49m\n",
      "\u001b[36mFile \u001b[39m\u001b[32m~/.local/lib/python3.12/site-packages/IPython/core/display.py:1102\u001b[39m, in \u001b[36mImage._data_and_metadata\u001b[39m\u001b[34m(self, always_both)\u001b[39m\n\u001b[32m   1100\u001b[39m     b64_data = b2a_base64(\u001b[38;5;28mself\u001b[39m.data, newline=\u001b[38;5;28;01mFalse\u001b[39;00m).decode(\u001b[33m\"\u001b[39m\u001b[33mascii\u001b[39m\u001b[33m\"\u001b[39m)\n\u001b[32m   1101\u001b[39m \u001b[38;5;28;01mexcept\u001b[39;00m \u001b[38;5;167;01mTypeError\u001b[39;00m \u001b[38;5;28;01mas\u001b[39;00m e:\n\u001b[32m-> \u001b[39m\u001b[32m1102\u001b[39m     \u001b[38;5;28;01mraise\u001b[39;00m \u001b[38;5;167;01mFileNotFoundError\u001b[39;00m(\n\u001b[32m   1103\u001b[39m         \u001b[33m\"\u001b[39m\u001b[33mNo such file or directory: \u001b[39m\u001b[33m'\u001b[39m\u001b[38;5;132;01m%s\u001b[39;00m\u001b[33m'\u001b[39m\u001b[33m\"\u001b[39m % (\u001b[38;5;28mself\u001b[39m.data)) \u001b[38;5;28;01mfrom\u001b[39;00m\u001b[38;5;250m \u001b[39m\u001b[34;01me\u001b[39;00m\n\u001b[32m   1104\u001b[39m md = {}\n\u001b[32m   1105\u001b[39m \u001b[38;5;28;01mif\u001b[39;00m \u001b[38;5;28mself\u001b[39m.metadata:\n",
      "\u001b[31mFileNotFoundError\u001b[39m: No such file or directory: 'graphic.png'"
     ]
    },
    {
     "data": {
      "text/plain": [
       "<IPython.core.display.Image object>"
      ]
     },
     "execution_count": 1,
     "metadata": {},
     "output_type": "execute_result"
    }
   ],
   "source": [
    "from IPython.display import display, Image\n",
    "\n",
    "Image(\"graphic.png\")\n"
   ]
  },
  {
   "cell_type": "markdown",
   "id": "d59c2107",
   "metadata": {},
   "source": [
    "This displays how humans interact with the AI, which is very similar to other LLMs. It's based on a text prompt and then an AI response. This interaction design makes the most sense for a text-based tool and is an easy visual format to create. It is also the format that most AI users are already familiar with and have a solid understanding of.  \n",
    "\n",
    "### Learning Value\n",
    "\n",
    "This AI would be a valuable learning tool as it is based on academic databases. For example, one popular database used for research for information students is LISA: Library and Information Science Abstracts. (https://about.proquest.com/en/products-services/lisa-set-c/) Instead of students having to search for counter arguments for essays and coursework themselves, students could simply use the AI tool and receive an accurate and reliable response. The AI tool would also provide references so users can evaluate the source's usefulness for themselves. \n",
    "\n",
    "This AI would be able to generate further questions or open-ended questions, which would allow users to identify gaps within their knowledge, allowing them to focus their research in more detail. \n",
    "\n",
    "Due to the database training of this AI, there would also be minimal AI bias or hallucinations. This would be achieved using high-quality academic training data and data templates to create a consistent result format and a clear understanding of AI's responsibilities and limitations to minimise these hallucinations. (https://www.ibm.com/think/topics/ai-hallucinations)\n",
    "\n",
    "### Engagement Value\n",
    "\n",
    "This design would be valuable for engagement as it brings a new aspect to the current AI being used while also appealing to a more specific audience. It has a clear purpose and would only be used by those in the arts and humanities field. The application's design would be streamlined and straightforward, as previously displayed, which would improve audience engagement. \n",
    "\n",
    "### Reflection\n",
    "The LLM would be positively received as an interesting fact-based AI tool and incredibly useful to academics within all arts and humanities fields. It would also have a positive implication as AI is often received negatively by the arts and humanities community due to fears it may make some fields irrelevant in future, so creating a positive and helpful AI tool for this specific community may remove some of the current AI stigmas. \n",
    "\n",
    "However, it may be negatively received as it takes away aspects of personal research and streamlines the process. It could be considered plagiarism by academic institutions, which would have a negative implication on users. To follow legal requirements, the AI would need permission from specific sources or libraries to be trained on their databases or be forced to rely on publicly available databases. This would be critical if the tool was implemented to be well-received and maintain a good, reliable reputation. \n",
    "\n"
   ]
  }
 ],
 "metadata": {
  "kernelspec": {
   "display_name": "Python 3",
   "language": "python",
   "name": "python3"
  },
  "language_info": {
   "codemirror_mode": {
    "name": "ipython",
    "version": 3
   },
   "file_extension": ".py",
   "mimetype": "text/x-python",
   "name": "python",
   "nbconvert_exporter": "python",
   "pygments_lexer": "ipython3",
   "version": "3.12.1"
  }
 },
 "nbformat": 4,
 "nbformat_minor": 5
}
